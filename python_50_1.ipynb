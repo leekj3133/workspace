{
 "cells": [
  {
   "cell_type": "markdown",
   "metadata": {},
   "source": [
    "# PYTHON 50-1"
   ]
  },
  {
   "cell_type": "markdown",
   "metadata": {},
   "source": [
    "### 2. all_unuque"
   ]
  },
  {
   "cell_type": "code",
   "execution_count": 66,
   "metadata": {},
   "outputs": [],
   "source": [
    "def all_unique(lst):\n",
    "    lst_len = len(lst)\n",
    "    lst_mo = set(lst)\n",
    "    if lst_len == len(lst_mo):\n",
    "        return True\n",
    "    else:\n",
    "        return False\n",
    "    \n",
    "\n"
   ]
  },
  {
   "cell_type": "code",
   "execution_count": 67,
   "metadata": {},
   "outputs": [
    {
     "data": {
      "text/plain": [
       "True"
      ]
     },
     "execution_count": 67,
     "metadata": {},
     "output_type": "execute_result"
    }
   ],
   "source": [
    "all_unique([1,2,3,4,5,6])"
   ]
  },
  {
   "cell_type": "code",
   "execution_count": 68,
   "metadata": {},
   "outputs": [
    {
     "data": {
      "text/plain": [
       "False"
      ]
     },
     "execution_count": 68,
     "metadata": {},
     "output_type": "execute_result"
    }
   ],
   "source": [
    "all_unique([1,2,2,3,4,5])"
   ]
  },
  {
   "cell_type": "markdown",
   "metadata": {},
   "source": [
    "### 3. capitalize every word"
   ]
  },
  {
   "cell_type": "code",
   "execution_count": 69,
   "metadata": {},
   "outputs": [
    {
     "name": "stdout",
     "output_type": "stream",
     "text": [
      "HELLO WORLD\n"
     ]
    }
   ],
   "source": [
    "s = \"hello world\"\n",
    "\n",
    "def capitalize_every_word(s):\n",
    "\treturn s.upper()\n",
    "print(capitalize_every_word(s))"
   ]
  },
  {
   "cell_type": "markdown",
   "metadata": {},
   "source": [
    "### 4. celsius to fahrenheit"
   ]
  },
  {
   "cell_type": "code",
   "execution_count": 70,
   "metadata": {},
   "outputs": [
    {
     "name": "stdout",
     "output_type": "stream",
     "text": [
      "356.0\n"
     ]
    }
   ],
   "source": [
    "celsius = 180\n",
    "\n",
    "def celsius_to_fahrenheit(celsius):\n",
    "    return  (celsius*1.8)+32\n",
    "\t\n",
    "\n",
    "print(celsius_to_fahrenheit(celsius))"
   ]
  },
  {
   "cell_type": "markdown",
   "metadata": {},
   "source": [
    "### 5. compact"
   ]
  },
  {
   "cell_type": "code",
   "execution_count": 71,
   "metadata": {},
   "outputs": [
    {
     "name": "stdout",
     "output_type": "stream",
     "text": [
      "[1, 2, 3, 'a', 's', 34]\n"
     ]
    }
   ],
   "source": [
    "lst = [0, 1, False, 2, '', 3, 'a', 's', 34]\n",
    "\n",
    "def compact(lst):\n",
    "\treturn list(filter(bool,lst))\n",
    "\n",
    "print(compact(lst))\n"
   ]
  },
  {
   "cell_type": "markdown",
   "metadata": {},
   "source": [
    "### 6. count occurences"
   ]
  },
  {
   "cell_type": "code",
   "execution_count": 72,
   "metadata": {},
   "outputs": [
    {
     "name": "stdout",
     "output_type": "stream",
     "text": [
      "3\n"
     ]
    }
   ],
   "source": [
    "lst = [1,1,2,1,2,3]\n",
    "\n",
    "def count_occurences(lst, val):\n",
    "\treturn lst.count(val)\n",
    "\n",
    "print(count_occurences(lst,1))"
   ]
  },
  {
   "cell_type": "markdown",
   "metadata": {},
   "source": [
    "### 7. degrees to rads"
   ]
  },
  {
   "cell_type": "code",
   "execution_count": 73,
   "metadata": {},
   "outputs": [
    {
     "name": "stdout",
     "output_type": "stream",
     "text": [
      "3.141592653589793\n"
     ]
    }
   ],
   "source": [
    "from math import pi \n",
    "import math\n",
    "\n",
    "degrees = 180\n",
    "\n",
    "def degrees_to_rads(degrees):\n",
    "    return math.radians(degrees)\n",
    "\n",
    "print(degrees_to_rads(degrees))"
   ]
  },
  {
   "cell_type": "markdown",
   "metadata": {},
   "source": [
    "### 8. difference"
   ]
  },
  {
   "cell_type": "code",
   "execution_count": 74,
   "metadata": {},
   "outputs": [
    {
     "name": "stdout",
     "output_type": "stream",
     "text": [
      "[3]\n"
     ]
    }
   ],
   "source": [
    "lst1 = [1,2,3]\n",
    "lst2 = [1,2,4]\n",
    "\n",
    "def difference(a,b) : \n",
    "    \n",
    "    return list(set(a).difference(b))\n",
    "\n",
    "print(difference(lst1, lst2))"
   ]
  },
  {
   "cell_type": "markdown",
   "metadata": {},
   "source": [
    "### 9. digitize"
   ]
  },
  {
   "cell_type": "code",
   "execution_count": 75,
   "metadata": {},
   "outputs": [
    {
     "name": "stdout",
     "output_type": "stream",
     "text": [
      "[1, 2, 3]\n"
     ]
    }
   ],
   "source": [
    "a = 123\n",
    "\n",
    "def digitize(n):\n",
    "    return  list(map(int, str(n)))\n",
    "\n",
    "print(digitize(a))"
   ]
  },
  {
   "cell_type": "markdown",
   "metadata": {},
   "source": [
    "### 10. drop"
   ]
  },
  {
   "cell_type": "code",
   "execution_count": 108,
   "metadata": {},
   "outputs": [],
   "source": [
    "def drop(lst, n=1):\n",
    "    if n > len(lst):\n",
    "        n = len(lst)\n",
    "        for i in range(n):\n",
    "            lst.remove(lst[0])\n",
    "    else:\n",
    "        for i in range(n):\n",
    "            lst.remove(lst[0])\n",
    "            \n",
    "            \n",
    "    return lst"
   ]
  },
  {
   "cell_type": "code",
   "execution_count": 109,
   "metadata": {},
   "outputs": [
    {
     "data": {
      "text/plain": [
       "[2, 3]"
      ]
     },
     "execution_count": 109,
     "metadata": {},
     "output_type": "execute_result"
    }
   ],
   "source": [
    "drop([1,2,3])"
   ]
  },
  {
   "cell_type": "code",
   "execution_count": 110,
   "metadata": {},
   "outputs": [
    {
     "data": {
      "text/plain": [
       "[3]"
      ]
     },
     "execution_count": 110,
     "metadata": {},
     "output_type": "execute_result"
    }
   ],
   "source": [
    "drop([1,2,3],2)"
   ]
  },
  {
   "cell_type": "code",
   "execution_count": 111,
   "metadata": {},
   "outputs": [
    {
     "data": {
      "text/plain": [
       "[]"
      ]
     },
     "execution_count": 111,
     "metadata": {},
     "output_type": "execute_result"
    }
   ],
   "source": [
    "drop([1,2,3],42)"
   ]
  },
  {
   "cell_type": "code",
   "execution_count": 10,
   "metadata": {},
   "outputs": [
    {
     "name": "stdout",
     "output_type": "stream",
     "text": [
      "---- Notebook Information ----\n",
      "Manufacturer : Apple\n",
      "Model : MacBook Pro\n",
      "RAM : 16\n",
      "SSD : 512\n"
     ]
    }
   ],
   "source": [
    "class Notebook: # Notebook class를 정의합니다.\n",
    "    def __init__(self, manufacturer, model, memory1, memory2):\n",
    "        # manufacturer, model, memory1, memory2 변수 정의\n",
    "        '''code here'''\n",
    "        self.manufacturer = manufacturer\n",
    "        self.model = model\n",
    "        self.memory1 = memory1\n",
    "        self.memory2 = memory2\n",
    "        \n",
    "nb = Notebook(\"Apple\", \"MacBook Pro\", 16, 512)\n",
    "print(\"---- Notebook Information ----\")\n",
    "print(f\"Manufacturer : {nb.manufacturer}\")\n",
    "print(f\"Model : {nb.model}\")\n",
    "print(f\"RAM : {nb.memory1}\")\n",
    "print(f\"SSD : {nb.memory2}\")"
   ]
  },
  {
   "cell_type": "code",
   "execution_count": 15,
   "metadata": {},
   "outputs": [
    {
     "name": "stdout",
     "output_type": "stream",
     "text": [
      "True\n",
      "False\n"
     ]
    }
   ],
   "source": [
    "UNIX = set([\"macOS X\", \"CentOS\", \"Ubuntu\", \"iOS\", \"Android\", \"webOS\"]) # 일부만 예제로 가져왔습니다.\n",
    "\n",
    "class Notebook:\n",
    "    def __init__(self, manufacturer, model, memory1, memory2, os):\n",
    "        self.manufacturer = manufacturer\n",
    "        self.model = model\n",
    "        self.memory1 = memory1\n",
    "        self.memory2 = memory2\n",
    "        # os 정보를 저장하는 변수\n",
    "        self.os = os\n",
    "\n",
    "    # os가 UNIX에 포함되는지 안되는지 판단하는 함수.    \n",
    "    def is_UNIX(self):\n",
    "        if self.os in UNIX:\n",
    "            return True\n",
    "        else:\n",
    "            return False\n",
    "\t\t\t\t\n",
    "\n",
    "nb = Notebook(\"Apple\", \"MacBook Pro\", 16, 512, \"macOS X\")\n",
    "nb2 = Notebook(\"Dell\", \"Dell XPS\", 16, 1024, \"Windows 10\")\n",
    "\n",
    "# nb가 UNIX인지 아닌지 확인하는 코드\n",
    "print( Notebook.is_UNIX(nb) )\n",
    "# nb2가 UNIX인지 아닌지 확인하는 코드\n",
    "print( Notebook.is_UNIX(nb2) )"
   ]
  },
  {
   "cell_type": "code",
   "execution_count": 17,
   "metadata": {},
   "outputs": [
    {
     "name": "stdout",
     "output_type": "stream",
     "text": [
      "MacBook Pro\n",
      "Dell XPS\n"
     ]
    }
   ],
   "source": [
    "# 일부만 예제로 가져왔습니다.\n",
    "UNIX = set([\"macOS X\", \"CentOS\", \"Ubuntu\", \"iOS\", \"Android\", \"webOS\"])\n",
    "\n",
    "class Notebook:\n",
    "    def __init__(self, manufacturer, model, memory1, memory2, os):\n",
    "        self.manufacturer = manufacturer\n",
    "        self.model = model\n",
    "        self.memory1 = memory1\n",
    "        self.memory2 = memory2\n",
    "        # os 정보를 저장하는 변수\n",
    "        self.os = os\n",
    "        \n",
    "    def is_UNIX(self):\n",
    "        # os가 UNIX에 포함되는지 안되는지 판단하는 함수.\n",
    "        if self.os in UNIX:\n",
    "            return True\n",
    "        else:\n",
    "            return False\n",
    "\t\t\t\t\n",
    "\n",
    "    def print_model(self):\n",
    "        # 해당 노트북의 모델을 출력해주는 함수.\n",
    "        return self.model\n",
    "\n",
    "nb = Notebook(\"Apple\", \"MacBook Pro\", 16, 512, \"macOS X\")\n",
    "nb2 = Notebook(\"Dell\", \"Dell XPS\", 16, 1024, \"Windows 10\")\n",
    "\n",
    "# nb의 model을 출력해주는 코드\n",
    "# nb2의 model을 출력해주는 코드\n",
    "print(Notebook.print_model(nb))\n",
    "print(Notebook.print_model(nb2))"
   ]
  },
  {
   "cell_type": "code",
   "execution_count": null,
   "metadata": {},
   "outputs": [],
   "source": [
    "# 일부만 예제로 가져왔습니다.\n",
    "UNIX = set([\"macOS X\", \"CentOS\", \"Ubuntu\", \"iOS\", \"Android\", \"webOS\"])\n",
    "\n",
    "# notebook class를 상속받아서 새로운 MacBook class를 정의\n",
    "\t\t# 변수 추가 필요\n",
    "class MacBook(Notebook):\n",
    "    def __init__(self, manufacturer, model, memory1, memory2, os, period, size): \n",
    "        self.manufacturer = manufacturer\n",
    "        self.model = model\n",
    "        self.memory1 = memory1\n",
    "        self.memory2 = memory2\n",
    "        self.os = os\n",
    "        self.period = period\n",
    "        self.size = size\n",
    "        # 세부 모델명을 저장하는 period 변수 선언.\n",
    "        # 화면 크기를 저장하는 size 변수 선언.\n",
    "        '''code here'''     \n",
    "\n",
    "# notebook class를 상속받아서 새로운 Dell_Laptop class를 정의\n",
    "\t\t# 변수 추가 필요\n",
    "class Dell_Laptop(Notebook):\n",
    "    def __init__(self, manufacturer, model, memory1, memory2, os, naming, size):\n",
    "        self.manufacturer = manufacturer\n",
    "        self.model = model\n",
    "        self.memory1 = memory1\n",
    "        self.memory2 = memory2\n",
    "        self.os = os\n",
    "        self.naming = naming\n",
    "        self.size = size\n",
    "        # 세부 모델명을 저장하는 naming 변수 선언.\n",
    "        # 화면 크기를 저장하는 size 변수 선언.\n",
    "        '''code here'''"
   ]
  },
  {
   "cell_type": "code",
   "execution_count": null,
   "metadata": {},
   "outputs": [],
   "source": [
    "class MacBook(Notebook):\n",
    "    def __init__(self, manufacturer, model, memory1, memory2, os, period, size):\n",
    "        super().__init__(manufacturer, model, memory1, memory2, os)\n",
    "        self.period = period\n",
    "        self.size = size\n",
    "        \n",
    "\n",
    "class DellLaptop(Notebook):\n",
    "    def __init__(self, manufacturer, model, memory1, memory2, os, period, size):\n",
    "        super().__init__(manufacturer, model, memory1, memory2, os)\n",
    "        self.period = period\n",
    "        self.size = size\n"
   ]
  },
  {
   "cell_type": "markdown",
   "metadata": {},
   "source": [
    "### 7번 : Method Overriding"
   ]
  },
  {
   "cell_type": "code",
   "execution_count": 24,
   "metadata": {},
   "outputs": [
    {
     "name": "stdout",
     "output_type": "stream",
     "text": [
      "* Apple Model : MacBook Pro (15 inch, Late 2015)\n",
      "* Dell Model : Dell XPS 15 9500\n"
     ]
    }
   ],
   "source": [
    "# 일부만 예제로 가져왔습니다.\n",
    "UNIX = set([\"macOS X\", \"CentOS\", \"Ubuntu\", \"iOS\", \"Android\", \"webOS\"])\n",
    "\n",
    "class MacBook(Notebook):\n",
    "    def __init__(self, manufacturer, model, memory1, memory2, os, period, size):\n",
    "        super().__init__(manufacturer, model, memory1, memory2, os)\n",
    "        self.period = period\n",
    "        self.size = size\n",
    "\n",
    "\t# 해당 노트북의 모델을 출력해주는 print_model 함수.\n",
    "    def print_model(self):\n",
    "        return f\"* {self.manufacturer} Model : {self.model} ({self.size} inch, {self.period})\"\n",
    "\n",
    "class DellLaptop(Notebook):\n",
    "    def __init__(self, manufacturer, model, memory1, memory2, os, period, size):\n",
    "        super().__init__(manufacturer, model, memory1, memory2, os)\n",
    "        self.period = period\n",
    "        self.size = size\n",
    "      \n",
    "\t# 해당 노트북의 모델을 출력해주는 print_model 함수.\n",
    "    def print_model(self):\n",
    "        return f\"* {self.manufacturer} Model : {self.model} {self.size} {self.period}\"\n",
    "\n",
    "macbook = MacBook(\"Apple\", \"MacBook Pro\", 16, 512, \"macOS X\", \"Late 2015\", 15)\n",
    "delllaptop = DellLaptop(\"Dell\", \"Dell XPS\", 16, 1024, \"Windows 10\", 9500, 15)\n",
    "\n",
    "print(macbook.print_model())\n",
    "print(delllaptop.print_model())"
   ]
  },
  {
   "cell_type": "markdown",
   "metadata": {},
   "source": [
    "## 산술과 기초수학"
   ]
  },
  {
   "cell_type": "code",
   "execution_count": 35,
   "metadata": {},
   "outputs": [],
   "source": [
    "def average_score(score):\n",
    "    score = score.split(\" \")\n",
    "    score = (int(score[0]) + int(score[1]) + int(score[2]))/len(score)\n",
    "    output = int(score)\n",
    "    return output"
   ]
  },
  {
   "cell_type": "code",
   "execution_count": 36,
   "metadata": {},
   "outputs": [
    {
     "data": {
      "text/plain": [
       "30"
      ]
     },
     "execution_count": 36,
     "metadata": {},
     "output_type": "execute_result"
    }
   ],
   "source": [
    "average_score(\"20 30 40\")"
   ]
  },
  {
   "cell_type": "code",
   "execution_count": 38,
   "metadata": {},
   "outputs": [
    {
     "name": "stdout",
     "output_type": "stream",
     "text": [
      "30\n"
     ]
    }
   ],
   "source": [
    "def avg():\n",
    "    score=list(map(int,input('점수를 입력하시오').split()))\n",
    "    avgs = sum(score)/len(score)\n",
    "    print(f'{avgs:.0f}')\n",
    "avg()"
   ]
  },
  {
   "cell_type": "code",
   "execution_count": 41,
   "metadata": {},
   "outputs": [
    {
     "data": {
      "text/plain": [
       "8"
      ]
     },
     "execution_count": 41,
     "metadata": {},
     "output_type": "execute_result"
    }
   ],
   "source": [
    "def power():\n",
    "    score = list(map(int, input(\"숫자를 입력하시오.\").split()))\n",
    "    pwoers = score[0] ** score[1]\n",
    "    return pwoers\n",
    "power()"
   ]
  },
  {
   "cell_type": "code",
   "execution_count": 52,
   "metadata": {},
   "outputs": [
    {
     "name": "stdout",
     "output_type": "stream",
     "text": [
      "5 0\n"
     ]
    }
   ],
   "source": [
    "def divmod():\n",
    "    n, m = map(int, input(\"숫자를 입력하시오.\").split())\n",
    "    print(n//m, n%m)\n",
    "divmod()"
   ]
  },
  {
   "cell_type": "code",
   "execution_count": 55,
   "metadata": {},
   "outputs": [
    {
     "data": {
      "text/plain": [
       "78.53981633974483"
      ]
     },
     "execution_count": 55,
     "metadata": {},
     "output_type": "execute_result"
    }
   ],
   "source": [
    "from math import pi\n",
    "\n",
    "def circle_area():\n",
    "    num = int(input(\"반지름을 입력하시오.\"))\n",
    "    area = num*num*pi\n",
    "    return area\n",
    "\n",
    "circle_area()"
   ]
  },
  {
   "cell_type": "code",
   "execution_count": 65,
   "metadata": {},
   "outputs": [
    {
     "data": {
      "text/plain": [
       "'2022'"
      ]
     },
     "execution_count": 65,
     "metadata": {},
     "output_type": "execute_result"
    }
   ],
   "source": [
    "import time\n",
    "\n",
    "time.strftime(\"%Y\",time.localtime(time.time()))"
   ]
  },
  {
   "cell_type": "code",
   "execution_count": 66,
   "metadata": {},
   "outputs": [
    {
     "data": {
      "text/plain": [
       "7"
      ]
     },
     "execution_count": 66,
     "metadata": {},
     "output_type": "execute_result"
    }
   ],
   "source": [
    "def max_num():\n",
    "    num = list(map(int, input(\"숫자를 입력하시오.\").split()))\n",
    "    max_n = max(num)\n",
    "    return max_n\n",
    "\n",
    "max_num()"
   ]
  },
  {
   "cell_type": "code",
   "execution_count": 129,
   "metadata": {},
   "outputs": [
    {
     "name": "stdout",
     "output_type": "stream",
     "text": [
      "[53, 53, 52, 50, 54]\n",
      "[29, 66, 46, 71, 51, 67, 55, 43, 47, 37, 64, 57, 54, 54, 30, 48, 68, 51, 37, 53, 70, 74, 61, 82, 38, 49, 43, 36, 29, 60]\n"
     ]
    }
   ],
   "source": [
    "import random  as r\n",
    "\n",
    "\n",
    "class_score = []\n",
    "average_score_by_subject = []\n",
    "average_score_by_student = []\n",
    "\n",
    "for i in range(30):\n",
    "    score = []\n",
    "    for j in range(5):\n",
    "        score.append(r.randint(1, 100))\n",
    "    average_score = int(sum(score)/len(score))\n",
    "    average_score_by_student.append(average_score)\n",
    "    class_score.append(score)\n",
    "\n",
    "for j in range(5):\n",
    "    a = 0\n",
    "    for i in range(len(class_score)):\n",
    "        a += class_score[i][j]\n",
    "    average_score_by_subject.append(int(a/len(class_score)))\n",
    "\n",
    "'''\n",
    "code here\n",
    "# average_score_by_subject는 모든 학생의 과목별 평균을 담고 있는 리스트입니다.\n",
    "# average_score_by_student는 모든 학생의 학생별 평균을 담고 있는 리스트입니다.\n",
    "'''\n",
    "\n",
    "print(average_score_by_subject)\n",
    "print(average_score_by_student)"
   ]
  },
  {
   "cell_type": "code",
   "execution_count": 97,
   "metadata": {},
   "outputs": [
    {
     "data": {
      "text/plain": [
       "[45, 34, 50, 12, 87, Ellipsis, 34, 56, 76]"
      ]
     },
     "execution_count": 97,
     "metadata": {},
     "output_type": "execute_result"
    }
   ],
   "source": [
    "[51, 52, 48, 57, 54] # 국어평균, 영어평균, 수학평균, 사회평균, 과학평균\n",
    "[45, 34, 50, 12, 87, ... , 34, 56, 76] # 0번학생, 1번학생 , ... , 29번학생"
   ]
  },
  {
   "cell_type": "code",
   "execution_count": null,
   "metadata": {},
   "outputs": [],
   "source": [
    "import random  as r\n",
    "\n",
    "score = []\n",
    "class_score = []\n",
    "student = []\n",
    "subject = []\n",
    "for i in range(5):\n",
    "    row = []\n",
    "    subject.append(row)\n",
    "\n",
    "\n",
    "for i in range(30):\n",
    "    for j in range(5):\n",
    "        score.append(r.randint(1, 100))\n",
    "        subject[j].append(score[j])\n",
    "    student.append(score)\n",
    "    score = []\n",
    "\n",
    "\n",
    "# print(subject)\n",
    "# print(student)\n",
    "ave_student = []\n",
    "ave_subject = []\n",
    "for row in student:\n",
    "    ave_student.append(int(sum(row)/5))\n",
    "for row in subject:\n",
    "    ave_subject.append(int(sum(row)/30))\n",
    "print(ave_subject)\n",
    "print(ave_student)"
   ]
  },
  {
   "cell_type": "code",
   "execution_count": null,
   "metadata": {},
   "outputs": [],
   "source": [
    "def times(*args):\n",
    "    \n"
   ]
  }
 ],
 "metadata": {
  "interpreter": {
   "hash": "0fee2ab30afb478982bca7db071c08878d5ea2ef99007a7952e75973c58d0727"
  },
  "kernelspec": {
   "display_name": "Python 3.8.12 ('tf')",
   "language": "python",
   "name": "python3"
  },
  "language_info": {
   "codemirror_mode": {
    "name": "ipython",
    "version": 3
   },
   "file_extension": ".py",
   "mimetype": "text/x-python",
   "name": "python",
   "nbconvert_exporter": "python",
   "pygments_lexer": "ipython3",
   "version": "3.8.8"
  },
  "orig_nbformat": 4
 },
 "nbformat": 4,
 "nbformat_minor": 2
}
